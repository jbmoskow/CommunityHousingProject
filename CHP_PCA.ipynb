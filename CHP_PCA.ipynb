{
 "cells": [
  {
   "cell_type": "markdown",
   "metadata": {},
   "source": [
    "# Community Housing survey Project (CHP) PCA\n",
    "This notebook is designed to run a categorical principle component analysis (catPCA) for the 2020 PhD-Community Initiative Housing Survey dataset\n",
    "\n",
    "Coded by Josh Moskowitz in February 2020\n",
    "\n",
    "---\n"
   ]
  },
  {
   "cell_type": "markdown",
   "metadata": {},
   "source": [
    "Import the relevant libraries and other setup"
   ]
  },
  {
   "cell_type": "code",
   "execution_count": 32,
   "metadata": {},
   "outputs": [],
   "source": [
    "import numpy as np\n",
    "import pandas as pd\n",
    "import matplotlib.pyplot as plt\n",
    "\n",
    "# Setup\n",
    "%matplotlib inline\n",
    "pd.set_option('display.max_columns', None)"
   ]
  },
  {
   "cell_type": "markdown",
   "metadata": {},
   "source": [
    "Import survey data"
   ]
  },
  {
   "cell_type": "code",
   "execution_count": 33,
   "metadata": {},
   "outputs": [],
   "source": [
    "#survey = pd.read_excel('F:/Users/Josh/Dropbox/PhD-CI/KCH_01312020.xlsx',index_col=None,header=0)\n",
    "survey = pd.read_excel('C:/Users/Josh/Desktop/Dropbox/PhD-CI/KCH_01312020.xlsx',index_col=None,header=0)\n",
    "questions = survey.iloc[0][:] # grab question wording and store for later"
   ]
  },
  {
   "cell_type": "markdown",
   "metadata": {},
   "source": [
    "## Cleanup survey data"
   ]
  },
  {
   "cell_type": "markdown",
   "metadata": {},
   "source": [
    "Remove unecessary rows and cols"
   ]
  },
  {
   "cell_type": "code",
   "execution_count": 34,
   "metadata": {},
   "outputs": [],
   "source": [
    "survey.drop(index=[0,1],inplace=True) # remove first 2 rows\n",
    "# Remove any irrelevant or personally idenitifying columns\n",
    "survey.drop(labels=['Status','IPAddress','RecipientLastName','RecipientFirstName','RecipientEmail',\n",
    "                    'ExternalReference','LocationLatitude','LocationLongitude','DistributionChannel',\n",
    "                    'UserLanguage','info','consent','StartDate','EndDate','Duration (in seconds)',\n",
    "                    'Progress','Finished','RecordedDate','ResponseId','num_applied_explain_2_TEXT',\n",
    "                    'num_applied_explain_3_TEXT','current_living_arr_6_TEXT','why_move_7_TEXT',\n",
    "                    'fam_status_5_TEXT','can_residency_3_TEXT'\n",
    "                   ],axis=1,inplace=True)\n",
    "survey.reset_index(drop=True, inplace=True) # reset index"
   ]
  },
  {
   "cell_type": "markdown",
   "metadata": {},
   "source": [
    "Remove Whitespace and weird characters"
   ]
  },
  {
   "cell_type": "code",
   "execution_count": 35,
   "metadata": {},
   "outputs": [],
   "source": [
    "def cleanDataFrame(obj):\n",
    "    \"Return a modified string\"\n",
    "    if isinstance(obj, str): # if object is a string\n",
    "        return obj.replace(\"â€™\", \"'\").strip() # fix apostrophes and remove trailing whitespace\n",
    "    else:\n",
    "        return obj\n",
    "\n",
    "survey = survey.applymap(cleanDataFrame)"
   ]
  },
  {
   "cell_type": "markdown",
   "metadata": {},
   "source": [
    "Function that will strip commas and split string when a person gave multiple responses"
   ]
  },
  {
   "cell_type": "code",
   "execution_count": 36,
   "metadata": {},
   "outputs": [],
   "source": [
    "def cleanAndSplit(string):\n",
    "    \"Return a list of strings split by comma\"\n",
    "    \n",
    "    # remove commas from one of the possible survey responses\n",
    "    # \"I need to be closer to work, childcare, or social/health support services\"\n",
    "    if \"I need to be closer to work\" in string:\n",
    "        idx1 = string.find(\"childcare\") - 2\n",
    "        idx2 = string.find(\" or \") - 1\n",
    "        cleanString = string[:idx1] + string[idx1:idx2].replace(',','') + string[idx2+1:]\n",
    "    else:\n",
    "        cleanString = string\n",
    "\n",
    "    return cleanString.split(',')"
   ]
  },
  {
   "cell_type": "markdown",
   "metadata": {},
   "source": [
    "Function that will recode the employment column to only include one employment type"
   ]
  },
  {
   "cell_type": "code",
   "execution_count": 37,
   "metadata": {},
   "outputs": [],
   "source": [
    "def recodeEmploy(row):\n",
    "    \"Return a Pandas row object with modified employment data\"\n",
    "    \n",
    "    if isinstance(row.employment,str):\n",
    "        listStatus = cleanAndSplit(row.employment)\n",
    "        # we don't care if students are employed or not\n",
    "        if 'Student' in listStatus:\n",
    "            row.employment = 'Student'\n",
    "        # we don't care if retirees are employed or not\n",
    "        elif 'Retired' in listStatus:\n",
    "            row.employment = 'Retired'\n",
    "        else:\n",
    "            row.employment = listStatus[0]\n",
    "    return row\n",
    "survey = survey.apply(recodeEmploy,axis='columns')"
   ]
  },
  {
   "cell_type": "code",
   "execution_count": 38,
   "metadata": {},
   "outputs": [
    {
     "data": {
      "text/plain": [
       "['num_applied',\n",
       " 'num_applied_explain',\n",
       " 'private_housing',\n",
       " 'current_living_arr',\n",
       " 'why_move',\n",
       " 'subsidy',\n",
       " 'employment',\n",
       " 'income_stable',\n",
       " 'utilities',\n",
       " 'debt',\n",
       " 'mental_health',\n",
       " 'substance_use',\n",
       " 'gender',\n",
       " 'age',\n",
       " 'fam_status',\n",
       " 'first_nation',\n",
       " 'vis_minority',\n",
       " 'can_residency']"
      ]
     },
     "execution_count": 38,
     "metadata": {},
     "output_type": "execute_result"
    }
   ],
   "source": [
    "list(survey.columns) # check col names"
   ]
  },
  {
   "cell_type": "code",
   "execution_count": null,
   "metadata": {},
   "outputs": [],
   "source": []
  }
 ],
 "metadata": {
  "kernelspec": {
   "display_name": "Python 3",
   "language": "python",
   "name": "python3"
  },
  "language_info": {
   "codemirror_mode": {
    "name": "ipython",
    "version": 3
   },
   "file_extension": ".py",
   "mimetype": "text/x-python",
   "name": "python",
   "nbconvert_exporter": "python",
   "pygments_lexer": "ipython3",
   "version": "3.7.4"
  }
 },
 "nbformat": 4,
 "nbformat_minor": 4
}
