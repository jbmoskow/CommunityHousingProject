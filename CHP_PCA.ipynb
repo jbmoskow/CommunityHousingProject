{
 "cells": [
  {
   "cell_type": "markdown",
   "metadata": {},
   "source": [
    "# Community Housing survey Project (CHP) Dimensionality Reduction and Clustering\n",
    "The goal of this notebook is to apply dimensionality reduction to the 2020 PhD-Community Initiative Housing Survey dataset followed by clustering methods to observe distinct groups in the community survey. \n",
    "\n",
    "Dimensionality reduction has the benefit to easily visualizing the aggregate result of over a dozen questions participants in the survey had to fill out. It attempts to reduce this high dimensional data set down into its principle components, or factors, that account for the greatest variance in the data. We can then visualize the extent to which various questions contribute to these components by plotting the loading, or \"influence\" each question has on the component.\n",
    "\n",
    "Following this approach, we can easily apply a 2-D clustering method such as k-means to identify clusters of survey respondents who have similar component scores, in essence, identifying participants who answered similarly across multiple questions.\n",
    "\n",
    "Coded by Josh Moskowitz in February 2020\n",
    "\n",
    "---\n"
   ]
  },
  {
   "cell_type": "markdown",
   "metadata": {},
   "source": [
    "Import the relevant libraries and other setup"
   ]
  },
  {
   "cell_type": "code",
   "execution_count": 28,
   "metadata": {},
   "outputs": [],
   "source": [
    "import numpy as np\n",
    "import pandas as pd\n",
    "import matplotlib.pyplot as plt\n",
    "\n",
    "# Setup\n",
    "%matplotlib inline\n",
    "pd.set_option('display.max_columns', None)"
   ]
  },
  {
   "cell_type": "markdown",
   "metadata": {},
   "source": [
    "Import survey data"
   ]
  },
  {
   "cell_type": "code",
   "execution_count": 29,
   "metadata": {},
   "outputs": [],
   "source": [
    "#survey = pd.read_excel('F:/Users/Josh/Dropbox/PhD-CI/KCH_01312020.xlsx',index_col=None,header=0)\n",
    "survey = pd.read_excel('C:/Users/Josh/Desktop/Dropbox/PhD-CI/KCH_01312020.xlsx',index_col=None,header=0)\n",
    "questions = survey.iloc[0][:] # grab question wording and store for later"
   ]
  },
  {
   "cell_type": "markdown",
   "metadata": {},
   "source": [
    "## Cleanup survey data"
   ]
  },
  {
   "cell_type": "markdown",
   "metadata": {},
   "source": [
    "Remove unecessary rows and cols"
   ]
  },
  {
   "cell_type": "code",
   "execution_count": 30,
   "metadata": {},
   "outputs": [],
   "source": [
    "survey.drop(index=[0,1],inplace=True) # remove first 2 rows\n",
    "# Remove any irrelevant or personally idenitifying columns\n",
    "survey.drop(labels=['Status','IPAddress','RecipientLastName','RecipientFirstName','RecipientEmail',\n",
    "                    'ExternalReference','LocationLatitude','LocationLongitude','DistributionChannel',\n",
    "                    'UserLanguage','info','consent','StartDate','EndDate','Duration (in seconds)',\n",
    "                    'Progress','Finished','RecordedDate','ResponseId','num_applied_explain_2_TEXT',\n",
    "                    'num_applied_explain_3_TEXT','current_living_arr_6_TEXT','why_move_7_TEXT',\n",
    "                    'fam_status_5_TEXT','can_residency_3_TEXT','why_move','num_applied',\n",
    "                    'num_applied_explain','private_housing','subsidy',\n",
    "                   ],axis=1,inplace=True)\n",
    "survey.reset_index(drop=True, inplace=True) # reset index"
   ]
  },
  {
   "cell_type": "markdown",
   "metadata": {},
   "source": [
    "Remove Whitespace and weird characters"
   ]
  },
  {
   "cell_type": "code",
   "execution_count": 31,
   "metadata": {},
   "outputs": [],
   "source": [
    "def cleanDataFrame(obj):\n",
    "    \"Return a modified string\"\n",
    "    if isinstance(obj, str): # if object is a string\n",
    "        return obj.replace(\"â€™\", \"'\").strip() # fix apostrophes and remove trailing whitespace\n",
    "    else:\n",
    "        return obj\n",
    "\n",
    "survey = survey.applymap(cleanDataFrame)"
   ]
  },
  {
   "cell_type": "markdown",
   "metadata": {},
   "source": [
    "Function that will strip commas and split string when a person gave multiple responses"
   ]
  },
  {
   "cell_type": "code",
   "execution_count": 32,
   "metadata": {},
   "outputs": [],
   "source": [
    "def cleanAndSplit(string):\n",
    "    \"Return a list of strings split by comma\"\n",
    "    \n",
    "    # remove commas from one of the possible survey responses\n",
    "    # \"I need to be closer to work, childcare, or social/health support services\"\n",
    "    if \"I need to be closer to work\" in string:\n",
    "        idx1 = string.find(\"childcare\") - 2\n",
    "        idx2 = string.find(\" or \") - 1\n",
    "        cleanString = string[:idx1] + string[idx1:idx2].replace(',','') + string[idx2+1:]\n",
    "    else:\n",
    "        cleanString = string\n",
    "\n",
    "    return cleanString.split(',')"
   ]
  },
  {
   "cell_type": "markdown",
   "metadata": {},
   "source": [
    "Function that will recode the employment column to only include one employment type"
   ]
  },
  {
   "cell_type": "code",
   "execution_count": 33,
   "metadata": {},
   "outputs": [],
   "source": [
    "def recodeEmploy(row):\n",
    "    \"Return a Pandas row object with modified employment data\"\n",
    "    \n",
    "    if isinstance(row.employment,str):\n",
    "        listStatus = cleanAndSplit(row.employment)\n",
    "        # we don't care if students are employed or not\n",
    "        if 'Student' in listStatus:\n",
    "            row.employment = 'Student'\n",
    "        # we don't care if retirees are employed or not\n",
    "        elif 'Retired' in listStatus:\n",
    "            row.employment = 'Retired'\n",
    "        else:\n",
    "            row.employment = listStatus[0]\n",
    "    return row\n",
    "survey = survey.apply(recodeEmploy,axis='columns')"
   ]
  },
  {
   "cell_type": "code",
   "execution_count": 34,
   "metadata": {},
   "outputs": [
    {
     "data": {
      "text/plain": [
       "['current_living_arr',\n",
       " 'employment',\n",
       " 'income_stable',\n",
       " 'utilities',\n",
       " 'debt',\n",
       " 'mental_health',\n",
       " 'substance_use',\n",
       " 'gender',\n",
       " 'age',\n",
       " 'fam_status',\n",
       " 'first_nation',\n",
       " 'vis_minority',\n",
       " 'can_residency']"
      ]
     },
     "execution_count": 34,
     "metadata": {},
     "output_type": "execute_result"
    }
   ],
   "source": [
    "list(survey.columns) # check col names"
   ]
  },
  {
   "cell_type": "markdown",
   "metadata": {},
   "source": [
    "# Prepare data for PCA\n",
    "---\n",
    "### Notes\n",
    "Try using CountVectorizer() to encode 'why_move' column"
   ]
  },
  {
   "cell_type": "code",
   "execution_count": 35,
   "metadata": {},
   "outputs": [],
   "source": [
    "# imports\n",
    "from sklearn.decomposition import PCA\n",
    "from sklearn.compose import ColumnTransformer\n",
    "from sklearn.pipeline import Pipeline\n",
    "from sklearn.impute import SimpleImputer\n",
    "from sklearn.preprocessing import OrdinalEncoder\n",
    "from sklearn.preprocessing import OneHotEncoder"
   ]
  },
  {
   "cell_type": "code",
   "execution_count": 36,
   "metadata": {},
   "outputs": [
    {
     "data": {
      "text/plain": [
       "current_living_arr    1\n",
       "employment            1\n",
       "income_stable         1\n",
       "utilities             3\n",
       "debt                  1\n",
       "mental_health         1\n",
       "substance_use         1\n",
       "gender                1\n",
       "age                   1\n",
       "fam_status            1\n",
       "first_nation          1\n",
       "vis_minority          1\n",
       "can_residency         1\n",
       "dtype: int64"
      ]
     },
     "execution_count": 36,
     "metadata": {},
     "output_type": "execute_result"
    }
   ],
   "source": [
    "survey.isna().sum() # cols with NaNs"
   ]
  },
  {
   "cell_type": "code",
   "execution_count": 37,
   "metadata": {},
   "outputs": [],
   "source": [
    "# Find where common empty rows are and drop from table\n",
    "idx = survey[survey.age.isna()]['age'].index.values\n",
    "survey.drop(index=idx,inplace=True)\n",
    "survey.reset_index(drop=True, inplace=True) # reset index"
   ]
  },
  {
   "cell_type": "markdown",
   "metadata": {},
   "source": [
    "### SimpleImputer\n",
    "As we're missing responses for one or more variables we're going to impute the missing values as simply the most frequent value present in that column.\n",
    "\n",
    "---"
   ]
  },
  {
   "cell_type": "code",
   "execution_count": 38,
   "metadata": {},
   "outputs": [],
   "source": [
    "# For missing utilities data impute values\n",
    "si = SimpleImputer(strategy='most_frequent')\n",
    "col = np.reshape(survey.utilities.values,(-1,1)) # need to do this for single cols apparently\n",
    "surveyProc = pd.DataFrame(si.fit_transform(col)).rename(columns={0:'utilities'}) # replace missing col name\n",
    "survey.drop(labels='utilities',axis=1,inplace=True) # remove original column\n",
    "survey = survey.join(surveyProc);"
   ]
  },
  {
   "cell_type": "markdown",
   "metadata": {},
   "source": [
    "### Select columns to be encoded\n",
    "\n",
    "---"
   ]
  },
  {
   "cell_type": "code",
   "execution_count": 39,
   "metadata": {},
   "outputs": [],
   "source": [
    "# Select columns\n",
    "oeCols = ['income_stable','utilities','mental_health','substance_use']\n",
    "ohCols = [col for col in survey.drop(labels=oeCols,axis=1).columns] # all other cols"
   ]
  },
  {
   "cell_type": "markdown",
   "metadata": {},
   "source": [
    "### One-Hot Encoding using ColumnTransformer\n",
    "We're going to take any nominal data and apply \"one-hot encoding\". For each possible question response (i.e. Male or Female for \"What is your gender?\") we're going to create a new column in a dataframe and fill its rows with 1s where a survey participant chose that response and 0s otherwise.\n",
    "\n",
    "---"
   ]
  },
  {
   "cell_type": "code",
   "execution_count": 40,
   "metadata": {},
   "outputs": [],
   "source": [
    "# One-Hot encoding\n",
    "ct = ColumnTransformer(\n",
    "[('oh', OneHotEncoder(sparse=False,handle_unknown='ignore'), ohCols)],\n",
    "    remainder='drop')\n",
    "surveyOH = pd.DataFrame(ct.fit_transform(survey),dtype=int)\n",
    "surveyOH.columns = ct.get_feature_names() # assign col names"
   ]
  },
  {
   "cell_type": "markdown",
   "metadata": {},
   "source": [
    "### OrdinalEncoder \n",
    "For the ordinal variables which have a rank order (e.g. \"Do much do you struggle with mental illnes?\") we will encode the different responses according to an order that assumes linear differences between possible responses (e.g. 0 would be \"struggle a lot\" and 4 would be \"hardly at all\").\n",
    "\n",
    "---"
   ]
  },
  {
   "cell_type": "code",
   "execution_count": 41,
   "metadata": {},
   "outputs": [],
   "source": [
    "# going to be used for ordinal encoder categories param\n",
    "# align such that index 0 --> 4 corresponds to increasing difficulty with issues \n",
    "orders = [['Always Stable','Frequently Stable','Sometimes Unstable',\n",
    "               'Frequently Unstable','Always Unstable'],\n",
    "          ['Never','Occasionally','Sometimes','Frequently','Always'],\n",
    "          ['Not at all','A little','A moderate amount','A lot',\n",
    "          'A great deal','Prefer not to answer'],\n",
    "          ['Not at all','A little','A moderate amount','A lot',\n",
    "          'A great deal','Prefer not to answer']]"
   ]
  },
  {
   "cell_type": "code",
   "execution_count": 42,
   "metadata": {},
   "outputs": [],
   "source": [
    "# OrdinalEncoding\n",
    "# Can't use a ColumnTransformer because I want to pass different category parameters to OrdinalEncoder()\n",
    "def OrdinalEncode(colName,categories):\n",
    "    \"Returns a dataframe after performing ordinal encoding\"\n",
    "    oe = OrdinalEncoder(categories=[categories])\n",
    "    col = np.reshape(survey[colName].values,(-1,1)) # need to do this for single cols apparently\n",
    "    return pd.DataFrame(oe.fit_transform(col),dtype=int).rename(columns={0:colName}) # replace missing col name"
   ]
  },
  {
   "cell_type": "code",
   "execution_count": 43,
   "metadata": {},
   "outputs": [],
   "source": [
    "for i, col in enumerate(oeCols): # for each col to be ordinal encoded\n",
    "    df = OrdinalEncode(col,orders[i])\n",
    "    if i == 0:\n",
    "        surveyOE = df # init dataFrame\n",
    "    else:\n",
    "        surveyOE = surveyOE.join(df) # join additional frames\n",
    "surveyProc = surveyOH.join(surveyOE) # combine to create PCA-ready dataFrame"
   ]
  },
  {
   "cell_type": "markdown",
   "metadata": {},
   "source": [
    "## Preprocessed survey data ready for dimensionality reduction"
   ]
  },
  {
   "cell_type": "code",
   "execution_count": 44,
   "metadata": {},
   "outputs": [
    {
     "data": {
      "text/html": [
       "<div>\n",
       "<style scoped>\n",
       "    .dataframe tbody tr th:only-of-type {\n",
       "        vertical-align: middle;\n",
       "    }\n",
       "\n",
       "    .dataframe tbody tr th {\n",
       "        vertical-align: top;\n",
       "    }\n",
       "\n",
       "    .dataframe thead th {\n",
       "        text-align: right;\n",
       "    }\n",
       "</style>\n",
       "<table border=\"1\" class=\"dataframe\">\n",
       "  <thead>\n",
       "    <tr style=\"text-align: right;\">\n",
       "      <th></th>\n",
       "      <th>oh__x0_I am in an emergency shelter</th>\n",
       "      <th>oh__x0_I am staying with family and friends</th>\n",
       "      <th>oh__x0_I own my home</th>\n",
       "      <th>oh__x0_I pay full market rent</th>\n",
       "      <th>oh__x0_I pay rent that is subsidized (e.g. rent sup, RGI, HA, PHB)</th>\n",
       "      <th>oh__x0_Other (e.g., I am homeless, I live in an institution). Please describe:</th>\n",
       "      <th>oh__x1_Full time employed</th>\n",
       "      <th>oh__x1_Part time employed</th>\n",
       "      <th>oh__x1_Retired</th>\n",
       "      <th>oh__x1_Student</th>\n",
       "      <th>oh__x1_Unemployed</th>\n",
       "      <th>oh__x2_No</th>\n",
       "      <th>oh__x2_Prefer not to answer</th>\n",
       "      <th>oh__x2_Yes</th>\n",
       "      <th>oh__x3_Female</th>\n",
       "      <th>oh__x3_I don't identify within the gender binary</th>\n",
       "      <th>oh__x3_I prefer not to disclose information concerning my gender</th>\n",
       "      <th>oh__x3_Male</th>\n",
       "      <th>oh__x4_25 - 65</th>\n",
       "      <th>oh__x4_Over 65</th>\n",
       "      <th>oh__x4_Under 25</th>\n",
       "      <th>oh__x5_Couple with dependents</th>\n",
       "      <th>oh__x5_Couple without dependents</th>\n",
       "      <th>oh__x5_Other:</th>\n",
       "      <th>oh__x5_Single no dependents</th>\n",
       "      <th>oh__x5_Single with dependents</th>\n",
       "      <th>oh__x6_No</th>\n",
       "      <th>oh__x6_Prefer not to say</th>\n",
       "      <th>oh__x6_Yes</th>\n",
       "      <th>oh__x7_No</th>\n",
       "      <th>oh__x7_Prefer not to say</th>\n",
       "      <th>oh__x7_Yes</th>\n",
       "      <th>oh__x8_Canadian Citizen</th>\n",
       "      <th>oh__x8_Other:</th>\n",
       "      <th>oh__x8_Permanent Resident</th>\n",
       "      <th>income_stable</th>\n",
       "      <th>utilities</th>\n",
       "      <th>mental_health</th>\n",
       "      <th>substance_use</th>\n",
       "    </tr>\n",
       "  </thead>\n",
       "  <tbody>\n",
       "    <tr>\n",
       "      <td>0</td>\n",
       "      <td>0</td>\n",
       "      <td>1</td>\n",
       "      <td>0</td>\n",
       "      <td>0</td>\n",
       "      <td>0</td>\n",
       "      <td>0</td>\n",
       "      <td>0</td>\n",
       "      <td>0</td>\n",
       "      <td>0</td>\n",
       "      <td>0</td>\n",
       "      <td>1</td>\n",
       "      <td>0</td>\n",
       "      <td>1</td>\n",
       "      <td>0</td>\n",
       "      <td>1</td>\n",
       "      <td>0</td>\n",
       "      <td>0</td>\n",
       "      <td>0</td>\n",
       "      <td>0</td>\n",
       "      <td>0</td>\n",
       "      <td>1</td>\n",
       "      <td>0</td>\n",
       "      <td>0</td>\n",
       "      <td>0</td>\n",
       "      <td>0</td>\n",
       "      <td>1</td>\n",
       "      <td>0</td>\n",
       "      <td>0</td>\n",
       "      <td>1</td>\n",
       "      <td>1</td>\n",
       "      <td>0</td>\n",
       "      <td>0</td>\n",
       "      <td>1</td>\n",
       "      <td>0</td>\n",
       "      <td>0</td>\n",
       "      <td>2</td>\n",
       "      <td>4</td>\n",
       "      <td>4</td>\n",
       "      <td>0</td>\n",
       "    </tr>\n",
       "    <tr>\n",
       "      <td>1</td>\n",
       "      <td>0</td>\n",
       "      <td>1</td>\n",
       "      <td>0</td>\n",
       "      <td>0</td>\n",
       "      <td>0</td>\n",
       "      <td>0</td>\n",
       "      <td>0</td>\n",
       "      <td>0</td>\n",
       "      <td>0</td>\n",
       "      <td>0</td>\n",
       "      <td>1</td>\n",
       "      <td>1</td>\n",
       "      <td>0</td>\n",
       "      <td>0</td>\n",
       "      <td>1</td>\n",
       "      <td>0</td>\n",
       "      <td>0</td>\n",
       "      <td>0</td>\n",
       "      <td>1</td>\n",
       "      <td>0</td>\n",
       "      <td>0</td>\n",
       "      <td>0</td>\n",
       "      <td>0</td>\n",
       "      <td>0</td>\n",
       "      <td>1</td>\n",
       "      <td>0</td>\n",
       "      <td>1</td>\n",
       "      <td>0</td>\n",
       "      <td>0</td>\n",
       "      <td>1</td>\n",
       "      <td>0</td>\n",
       "      <td>0</td>\n",
       "      <td>1</td>\n",
       "      <td>0</td>\n",
       "      <td>0</td>\n",
       "      <td>0</td>\n",
       "      <td>2</td>\n",
       "      <td>4</td>\n",
       "      <td>1</td>\n",
       "    </tr>\n",
       "    <tr>\n",
       "      <td>2</td>\n",
       "      <td>0</td>\n",
       "      <td>0</td>\n",
       "      <td>0</td>\n",
       "      <td>1</td>\n",
       "      <td>0</td>\n",
       "      <td>0</td>\n",
       "      <td>0</td>\n",
       "      <td>0</td>\n",
       "      <td>0</td>\n",
       "      <td>1</td>\n",
       "      <td>0</td>\n",
       "      <td>0</td>\n",
       "      <td>0</td>\n",
       "      <td>1</td>\n",
       "      <td>0</td>\n",
       "      <td>0</td>\n",
       "      <td>0</td>\n",
       "      <td>1</td>\n",
       "      <td>0</td>\n",
       "      <td>0</td>\n",
       "      <td>1</td>\n",
       "      <td>1</td>\n",
       "      <td>0</td>\n",
       "      <td>0</td>\n",
       "      <td>0</td>\n",
       "      <td>0</td>\n",
       "      <td>1</td>\n",
       "      <td>0</td>\n",
       "      <td>0</td>\n",
       "      <td>0</td>\n",
       "      <td>0</td>\n",
       "      <td>1</td>\n",
       "      <td>0</td>\n",
       "      <td>0</td>\n",
       "      <td>1</td>\n",
       "      <td>3</td>\n",
       "      <td>4</td>\n",
       "      <td>0</td>\n",
       "      <td>0</td>\n",
       "    </tr>\n",
       "    <tr>\n",
       "      <td>3</td>\n",
       "      <td>0</td>\n",
       "      <td>0</td>\n",
       "      <td>0</td>\n",
       "      <td>0</td>\n",
       "      <td>1</td>\n",
       "      <td>0</td>\n",
       "      <td>0</td>\n",
       "      <td>0</td>\n",
       "      <td>1</td>\n",
       "      <td>0</td>\n",
       "      <td>0</td>\n",
       "      <td>1</td>\n",
       "      <td>0</td>\n",
       "      <td>0</td>\n",
       "      <td>0</td>\n",
       "      <td>0</td>\n",
       "      <td>1</td>\n",
       "      <td>0</td>\n",
       "      <td>1</td>\n",
       "      <td>0</td>\n",
       "      <td>0</td>\n",
       "      <td>0</td>\n",
       "      <td>0</td>\n",
       "      <td>0</td>\n",
       "      <td>0</td>\n",
       "      <td>1</td>\n",
       "      <td>0</td>\n",
       "      <td>1</td>\n",
       "      <td>0</td>\n",
       "      <td>0</td>\n",
       "      <td>1</td>\n",
       "      <td>0</td>\n",
       "      <td>1</td>\n",
       "      <td>0</td>\n",
       "      <td>0</td>\n",
       "      <td>2</td>\n",
       "      <td>0</td>\n",
       "      <td>5</td>\n",
       "      <td>0</td>\n",
       "    </tr>\n",
       "    <tr>\n",
       "      <td>4</td>\n",
       "      <td>0</td>\n",
       "      <td>0</td>\n",
       "      <td>0</td>\n",
       "      <td>0</td>\n",
       "      <td>1</td>\n",
       "      <td>0</td>\n",
       "      <td>0</td>\n",
       "      <td>0</td>\n",
       "      <td>0</td>\n",
       "      <td>0</td>\n",
       "      <td>1</td>\n",
       "      <td>0</td>\n",
       "      <td>0</td>\n",
       "      <td>1</td>\n",
       "      <td>1</td>\n",
       "      <td>0</td>\n",
       "      <td>0</td>\n",
       "      <td>0</td>\n",
       "      <td>1</td>\n",
       "      <td>0</td>\n",
       "      <td>0</td>\n",
       "      <td>0</td>\n",
       "      <td>0</td>\n",
       "      <td>0</td>\n",
       "      <td>0</td>\n",
       "      <td>1</td>\n",
       "      <td>0</td>\n",
       "      <td>0</td>\n",
       "      <td>1</td>\n",
       "      <td>1</td>\n",
       "      <td>0</td>\n",
       "      <td>0</td>\n",
       "      <td>1</td>\n",
       "      <td>0</td>\n",
       "      <td>0</td>\n",
       "      <td>0</td>\n",
       "      <td>4</td>\n",
       "      <td>3</td>\n",
       "      <td>2</td>\n",
       "    </tr>\n",
       "    <tr>\n",
       "      <td>...</td>\n",
       "      <td>...</td>\n",
       "      <td>...</td>\n",
       "      <td>...</td>\n",
       "      <td>...</td>\n",
       "      <td>...</td>\n",
       "      <td>...</td>\n",
       "      <td>...</td>\n",
       "      <td>...</td>\n",
       "      <td>...</td>\n",
       "      <td>...</td>\n",
       "      <td>...</td>\n",
       "      <td>...</td>\n",
       "      <td>...</td>\n",
       "      <td>...</td>\n",
       "      <td>...</td>\n",
       "      <td>...</td>\n",
       "      <td>...</td>\n",
       "      <td>...</td>\n",
       "      <td>...</td>\n",
       "      <td>...</td>\n",
       "      <td>...</td>\n",
       "      <td>...</td>\n",
       "      <td>...</td>\n",
       "      <td>...</td>\n",
       "      <td>...</td>\n",
       "      <td>...</td>\n",
       "      <td>...</td>\n",
       "      <td>...</td>\n",
       "      <td>...</td>\n",
       "      <td>...</td>\n",
       "      <td>...</td>\n",
       "      <td>...</td>\n",
       "      <td>...</td>\n",
       "      <td>...</td>\n",
       "      <td>...</td>\n",
       "      <td>...</td>\n",
       "      <td>...</td>\n",
       "      <td>...</td>\n",
       "      <td>...</td>\n",
       "    </tr>\n",
       "    <tr>\n",
       "      <td>64</td>\n",
       "      <td>0</td>\n",
       "      <td>0</td>\n",
       "      <td>0</td>\n",
       "      <td>0</td>\n",
       "      <td>1</td>\n",
       "      <td>0</td>\n",
       "      <td>0</td>\n",
       "      <td>0</td>\n",
       "      <td>1</td>\n",
       "      <td>0</td>\n",
       "      <td>0</td>\n",
       "      <td>1</td>\n",
       "      <td>0</td>\n",
       "      <td>0</td>\n",
       "      <td>1</td>\n",
       "      <td>0</td>\n",
       "      <td>0</td>\n",
       "      <td>0</td>\n",
       "      <td>0</td>\n",
       "      <td>1</td>\n",
       "      <td>0</td>\n",
       "      <td>0</td>\n",
       "      <td>0</td>\n",
       "      <td>0</td>\n",
       "      <td>1</td>\n",
       "      <td>0</td>\n",
       "      <td>1</td>\n",
       "      <td>0</td>\n",
       "      <td>0</td>\n",
       "      <td>1</td>\n",
       "      <td>0</td>\n",
       "      <td>0</td>\n",
       "      <td>1</td>\n",
       "      <td>0</td>\n",
       "      <td>0</td>\n",
       "      <td>0</td>\n",
       "      <td>1</td>\n",
       "      <td>2</td>\n",
       "      <td>0</td>\n",
       "    </tr>\n",
       "    <tr>\n",
       "      <td>65</td>\n",
       "      <td>0</td>\n",
       "      <td>0</td>\n",
       "      <td>0</td>\n",
       "      <td>1</td>\n",
       "      <td>0</td>\n",
       "      <td>0</td>\n",
       "      <td>0</td>\n",
       "      <td>0</td>\n",
       "      <td>0</td>\n",
       "      <td>0</td>\n",
       "      <td>1</td>\n",
       "      <td>1</td>\n",
       "      <td>0</td>\n",
       "      <td>0</td>\n",
       "      <td>1</td>\n",
       "      <td>0</td>\n",
       "      <td>0</td>\n",
       "      <td>0</td>\n",
       "      <td>1</td>\n",
       "      <td>0</td>\n",
       "      <td>0</td>\n",
       "      <td>1</td>\n",
       "      <td>0</td>\n",
       "      <td>0</td>\n",
       "      <td>0</td>\n",
       "      <td>0</td>\n",
       "      <td>1</td>\n",
       "      <td>0</td>\n",
       "      <td>0</td>\n",
       "      <td>1</td>\n",
       "      <td>0</td>\n",
       "      <td>0</td>\n",
       "      <td>1</td>\n",
       "      <td>0</td>\n",
       "      <td>0</td>\n",
       "      <td>0</td>\n",
       "      <td>4</td>\n",
       "      <td>4</td>\n",
       "      <td>5</td>\n",
       "    </tr>\n",
       "    <tr>\n",
       "      <td>66</td>\n",
       "      <td>0</td>\n",
       "      <td>0</td>\n",
       "      <td>0</td>\n",
       "      <td>0</td>\n",
       "      <td>1</td>\n",
       "      <td>0</td>\n",
       "      <td>0</td>\n",
       "      <td>0</td>\n",
       "      <td>1</td>\n",
       "      <td>0</td>\n",
       "      <td>0</td>\n",
       "      <td>1</td>\n",
       "      <td>0</td>\n",
       "      <td>0</td>\n",
       "      <td>1</td>\n",
       "      <td>0</td>\n",
       "      <td>0</td>\n",
       "      <td>0</td>\n",
       "      <td>0</td>\n",
       "      <td>1</td>\n",
       "      <td>0</td>\n",
       "      <td>0</td>\n",
       "      <td>0</td>\n",
       "      <td>0</td>\n",
       "      <td>1</td>\n",
       "      <td>0</td>\n",
       "      <td>1</td>\n",
       "      <td>0</td>\n",
       "      <td>0</td>\n",
       "      <td>1</td>\n",
       "      <td>0</td>\n",
       "      <td>0</td>\n",
       "      <td>1</td>\n",
       "      <td>0</td>\n",
       "      <td>0</td>\n",
       "      <td>0</td>\n",
       "      <td>0</td>\n",
       "      <td>0</td>\n",
       "      <td>0</td>\n",
       "    </tr>\n",
       "    <tr>\n",
       "      <td>67</td>\n",
       "      <td>0</td>\n",
       "      <td>1</td>\n",
       "      <td>0</td>\n",
       "      <td>0</td>\n",
       "      <td>0</td>\n",
       "      <td>0</td>\n",
       "      <td>0</td>\n",
       "      <td>0</td>\n",
       "      <td>0</td>\n",
       "      <td>0</td>\n",
       "      <td>1</td>\n",
       "      <td>0</td>\n",
       "      <td>0</td>\n",
       "      <td>1</td>\n",
       "      <td>1</td>\n",
       "      <td>0</td>\n",
       "      <td>0</td>\n",
       "      <td>0</td>\n",
       "      <td>1</td>\n",
       "      <td>0</td>\n",
       "      <td>0</td>\n",
       "      <td>0</td>\n",
       "      <td>0</td>\n",
       "      <td>0</td>\n",
       "      <td>0</td>\n",
       "      <td>1</td>\n",
       "      <td>1</td>\n",
       "      <td>0</td>\n",
       "      <td>0</td>\n",
       "      <td>0</td>\n",
       "      <td>1</td>\n",
       "      <td>0</td>\n",
       "      <td>1</td>\n",
       "      <td>0</td>\n",
       "      <td>0</td>\n",
       "      <td>2</td>\n",
       "      <td>1</td>\n",
       "      <td>5</td>\n",
       "      <td>5</td>\n",
       "    </tr>\n",
       "    <tr>\n",
       "      <td>68</td>\n",
       "      <td>0</td>\n",
       "      <td>0</td>\n",
       "      <td>0</td>\n",
       "      <td>1</td>\n",
       "      <td>0</td>\n",
       "      <td>0</td>\n",
       "      <td>0</td>\n",
       "      <td>0</td>\n",
       "      <td>0</td>\n",
       "      <td>0</td>\n",
       "      <td>1</td>\n",
       "      <td>0</td>\n",
       "      <td>0</td>\n",
       "      <td>1</td>\n",
       "      <td>1</td>\n",
       "      <td>0</td>\n",
       "      <td>0</td>\n",
       "      <td>0</td>\n",
       "      <td>1</td>\n",
       "      <td>0</td>\n",
       "      <td>0</td>\n",
       "      <td>0</td>\n",
       "      <td>1</td>\n",
       "      <td>0</td>\n",
       "      <td>0</td>\n",
       "      <td>0</td>\n",
       "      <td>1</td>\n",
       "      <td>0</td>\n",
       "      <td>0</td>\n",
       "      <td>1</td>\n",
       "      <td>0</td>\n",
       "      <td>0</td>\n",
       "      <td>1</td>\n",
       "      <td>0</td>\n",
       "      <td>0</td>\n",
       "      <td>0</td>\n",
       "      <td>3</td>\n",
       "      <td>4</td>\n",
       "      <td>1</td>\n",
       "    </tr>\n",
       "  </tbody>\n",
       "</table>\n",
       "<p>69 rows × 39 columns</p>\n",
       "</div>"
      ],
      "text/plain": [
       "    oh__x0_I am in an emergency shelter  \\\n",
       "0                                     0   \n",
       "1                                     0   \n",
       "2                                     0   \n",
       "3                                     0   \n",
       "4                                     0   \n",
       "..                                  ...   \n",
       "64                                    0   \n",
       "65                                    0   \n",
       "66                                    0   \n",
       "67                                    0   \n",
       "68                                    0   \n",
       "\n",
       "    oh__x0_I am staying with family and friends  oh__x0_I own my home  \\\n",
       "0                                             1                     0   \n",
       "1                                             1                     0   \n",
       "2                                             0                     0   \n",
       "3                                             0                     0   \n",
       "4                                             0                     0   \n",
       "..                                          ...                   ...   \n",
       "64                                            0                     0   \n",
       "65                                            0                     0   \n",
       "66                                            0                     0   \n",
       "67                                            1                     0   \n",
       "68                                            0                     0   \n",
       "\n",
       "    oh__x0_I pay full market rent  \\\n",
       "0                               0   \n",
       "1                               0   \n",
       "2                               1   \n",
       "3                               0   \n",
       "4                               0   \n",
       "..                            ...   \n",
       "64                              0   \n",
       "65                              1   \n",
       "66                              0   \n",
       "67                              0   \n",
       "68                              1   \n",
       "\n",
       "    oh__x0_I pay rent that is subsidized (e.g. rent sup, RGI, HA, PHB)  \\\n",
       "0                                                   0                    \n",
       "1                                                   0                    \n",
       "2                                                   0                    \n",
       "3                                                   1                    \n",
       "4                                                   1                    \n",
       "..                                                ...                    \n",
       "64                                                  1                    \n",
       "65                                                  0                    \n",
       "66                                                  1                    \n",
       "67                                                  0                    \n",
       "68                                                  0                    \n",
       "\n",
       "    oh__x0_Other (e.g., I am homeless, I live in an institution). Please describe:  \\\n",
       "0                                                   0                                \n",
       "1                                                   0                                \n",
       "2                                                   0                                \n",
       "3                                                   0                                \n",
       "4                                                   0                                \n",
       "..                                                ...                                \n",
       "64                                                  0                                \n",
       "65                                                  0                                \n",
       "66                                                  0                                \n",
       "67                                                  0                                \n",
       "68                                                  0                                \n",
       "\n",
       "    oh__x1_Full time employed  oh__x1_Part time employed  oh__x1_Retired  \\\n",
       "0                           0                          0               0   \n",
       "1                           0                          0               0   \n",
       "2                           0                          0               0   \n",
       "3                           0                          0               1   \n",
       "4                           0                          0               0   \n",
       "..                        ...                        ...             ...   \n",
       "64                          0                          0               1   \n",
       "65                          0                          0               0   \n",
       "66                          0                          0               1   \n",
       "67                          0                          0               0   \n",
       "68                          0                          0               0   \n",
       "\n",
       "    oh__x1_Student  oh__x1_Unemployed  oh__x2_No  oh__x2_Prefer not to answer  \\\n",
       "0                0                  1          0                            1   \n",
       "1                0                  1          1                            0   \n",
       "2                1                  0          0                            0   \n",
       "3                0                  0          1                            0   \n",
       "4                0                  1          0                            0   \n",
       "..             ...                ...        ...                          ...   \n",
       "64               0                  0          1                            0   \n",
       "65               0                  1          1                            0   \n",
       "66               0                  0          1                            0   \n",
       "67               0                  1          0                            0   \n",
       "68               0                  1          0                            0   \n",
       "\n",
       "    oh__x2_Yes  oh__x3_Female  \\\n",
       "0            0              1   \n",
       "1            0              1   \n",
       "2            1              0   \n",
       "3            0              0   \n",
       "4            1              1   \n",
       "..         ...            ...   \n",
       "64           0              1   \n",
       "65           0              1   \n",
       "66           0              1   \n",
       "67           1              1   \n",
       "68           1              1   \n",
       "\n",
       "    oh__x3_I don't identify within the gender binary  \\\n",
       "0                                                  0   \n",
       "1                                                  0   \n",
       "2                                                  0   \n",
       "3                                                  0   \n",
       "4                                                  0   \n",
       "..                                               ...   \n",
       "64                                                 0   \n",
       "65                                                 0   \n",
       "66                                                 0   \n",
       "67                                                 0   \n",
       "68                                                 0   \n",
       "\n",
       "    oh__x3_I prefer not to disclose information concerning my gender  \\\n",
       "0                                                   0                  \n",
       "1                                                   0                  \n",
       "2                                                   0                  \n",
       "3                                                   1                  \n",
       "4                                                   0                  \n",
       "..                                                ...                  \n",
       "64                                                  0                  \n",
       "65                                                  0                  \n",
       "66                                                  0                  \n",
       "67                                                  0                  \n",
       "68                                                  0                  \n",
       "\n",
       "    oh__x3_Male  oh__x4_25 - 65  oh__x4_Over 65  oh__x4_Under 25  \\\n",
       "0             0               0               0                1   \n",
       "1             0               1               0                0   \n",
       "2             1               0               0                1   \n",
       "3             0               1               0                0   \n",
       "4             0               1               0                0   \n",
       "..          ...             ...             ...              ...   \n",
       "64            0               0               1                0   \n",
       "65            0               1               0                0   \n",
       "66            0               0               1                0   \n",
       "67            0               1               0                0   \n",
       "68            0               1               0                0   \n",
       "\n",
       "    oh__x5_Couple with dependents  oh__x5_Couple without dependents  \\\n",
       "0                               0                                 0   \n",
       "1                               0                                 0   \n",
       "2                               1                                 0   \n",
       "3                               0                                 0   \n",
       "4                               0                                 0   \n",
       "..                            ...                               ...   \n",
       "64                              0                                 0   \n",
       "65                              1                                 0   \n",
       "66                              0                                 0   \n",
       "67                              0                                 0   \n",
       "68                              0                                 1   \n",
       "\n",
       "    oh__x5_Other:  oh__x5_Single no dependents  oh__x5_Single with dependents  \\\n",
       "0               0                            0                              1   \n",
       "1               0                            1                              0   \n",
       "2               0                            0                              0   \n",
       "3               0                            0                              1   \n",
       "4               0                            0                              1   \n",
       "..            ...                          ...                            ...   \n",
       "64              0                            1                              0   \n",
       "65              0                            0                              0   \n",
       "66              0                            1                              0   \n",
       "67              0                            0                              1   \n",
       "68              0                            0                              0   \n",
       "\n",
       "    oh__x6_No  oh__x6_Prefer not to say  oh__x6_Yes  oh__x7_No  \\\n",
       "0           0                         0           1          1   \n",
       "1           1                         0           0          1   \n",
       "2           1                         0           0          0   \n",
       "3           0                         1           0          0   \n",
       "4           0                         0           1          1   \n",
       "..        ...                       ...         ...        ...   \n",
       "64          1                         0           0          1   \n",
       "65          1                         0           0          1   \n",
       "66          1                         0           0          1   \n",
       "67          1                         0           0          0   \n",
       "68          1                         0           0          1   \n",
       "\n",
       "    oh__x7_Prefer not to say  oh__x7_Yes  oh__x8_Canadian Citizen  \\\n",
       "0                          0           0                        1   \n",
       "1                          0           0                        1   \n",
       "2                          0           1                        0   \n",
       "3                          1           0                        1   \n",
       "4                          0           0                        1   \n",
       "..                       ...         ...                      ...   \n",
       "64                         0           0                        1   \n",
       "65                         0           0                        1   \n",
       "66                         0           0                        1   \n",
       "67                         1           0                        1   \n",
       "68                         0           0                        1   \n",
       "\n",
       "    oh__x8_Other:  oh__x8_Permanent Resident  income_stable  utilities  \\\n",
       "0               0                          0              2          4   \n",
       "1               0                          0              0          2   \n",
       "2               0                          1              3          4   \n",
       "3               0                          0              2          0   \n",
       "4               0                          0              0          4   \n",
       "..            ...                        ...            ...        ...   \n",
       "64              0                          0              0          1   \n",
       "65              0                          0              0          4   \n",
       "66              0                          0              0          0   \n",
       "67              0                          0              2          1   \n",
       "68              0                          0              0          3   \n",
       "\n",
       "    mental_health  substance_use  \n",
       "0               4              0  \n",
       "1               4              1  \n",
       "2               0              0  \n",
       "3               5              0  \n",
       "4               3              2  \n",
       "..            ...            ...  \n",
       "64              2              0  \n",
       "65              4              5  \n",
       "66              0              0  \n",
       "67              5              5  \n",
       "68              4              1  \n",
       "\n",
       "[69 rows x 39 columns]"
      ]
     },
     "execution_count": 44,
     "metadata": {},
     "output_type": "execute_result"
    }
   ],
   "source": [
    "surveyProc"
   ]
  },
  {
   "cell_type": "markdown",
   "metadata": {},
   "source": [
    "# Run PCA\n",
    "Now that the data is correctly formatted, run the PCA function using sci-kit learn, to return the 2 principle components that account for the majority of the variance\n",
    "\n",
    "---"
   ]
  },
  {
   "cell_type": "code",
   "execution_count": 45,
   "metadata": {},
   "outputs": [],
   "source": [
    "# Fit PCA\n",
    "pca = PCA(n_components=2)\n",
    "X = pca.fit_transform(surveyProc)\n",
    "varExpl = pca.explained_variance_ratio_"
   ]
  },
  {
   "cell_type": "code",
   "execution_count": 46,
   "metadata": {},
   "outputs": [
    {
     "data": {
      "text/plain": [
       "Text(0, 0.5, 'PCA 2 (17.0%)')"
      ]
     },
     "execution_count": 46,
     "metadata": {},
     "output_type": "execute_result"
    },
    {
     "data": {
      "image/png": "[encoded data removed]",
      "text/plain": [
       "<Figure size 432x288 with 1 Axes>"
      ]
     },
     "metadata": {
      "needs_background": "light"
     },
     "output_type": "display_data"
    }
   ],
   "source": [
    "# Plotting\n",
    "plt.figure()\n",
    "plt.scatter(X[:,0],X[:,1])\n",
    "plt.title('PCA of CHP Dataset')\n",
    "plt.xlabel(\"PCA 1 ({}%)\".format(round(varExpl[0]*100)))\n",
    "plt.ylabel(\"PCA 2 ({}%)\".format(round(varExpl[1]*100)))"
   ]
  },
  {
   "cell_type": "code",
   "execution_count": 47,
   "metadata": {},
   "outputs": [],
   "source": [
    "cat = [col for col in surveyProc.columns.values] # x-val\n",
    "loadings = pca.components_ # PCA loadings\n",
    "loadingsPC1 = loadings[0,:] # PCA1\n",
    "loadingsPC2 = loadings[1,:] # PCA2"
   ]
  },
  {
   "cell_type": "code",
   "execution_count": 48,
   "metadata": {},
   "outputs": [
    {
     "data": {
      "text/plain": [
       "Text(0.5, 1.0, 'Loadings for PCA 1')"
      ]
     },
     "execution_count": 48,
     "metadata": {},
     "output_type": "execute_result"
    },
    {
     "data": {
      "image/png": "[encoded data removed]",
      "text/plain": [
       "<Figure size 480x800 with 1 Axes>"
      ]
     },
     "metadata": {},
     "output_type": "display_data"
    }
   ],
   "source": [
    "# Plotting\n",
    "plt.figure(num=None, figsize=(6, 10), dpi=80, facecolor='w', edgecolor='k')\n",
    "plt.barh(cat,loadingsPC1)\n",
    "plt.title('Loadings for PCA 1')"
   ]
  },
  {
   "cell_type": "code",
   "execution_count": 49,
   "metadata": {},
   "outputs": [
    {
     "data": {
      "text/plain": [
       "Text(0.5, 1.0, 'Loadings for PCA 2')"
      ]
     },
     "execution_count": 49,
     "metadata": {},
     "output_type": "execute_result"
    },
    {
     "data": {
      "image/png": "[encoded data removed]",
      "text/plain": [
       "<Figure size 480x800 with 1 Axes>"
      ]
     },
     "metadata": {},
     "output_type": "display_data"
    }
   ],
   "source": [
    "plt.figure(num=None, figsize=(6, 10), dpi=80, facecolor='w', edgecolor='k')\n",
    "plt.barh(cat,loadingsPC2)\n",
    "plt.title('Loadings for PCA 2')"
   ]
  },
  {
   "cell_type": "markdown",
   "metadata": {},
   "source": [
    "---\n",
    "It would appear that a standard PCA approach was not effective at finding clusters in the data. This is likely because binarized data (i.e. one-hot encoded) is not designed to be used in a PCA. I will now try using Multiple correspondence analysis (MCA) instead the *prince* Python package"
   ]
  },
  {
   "cell_type": "code",
   "execution_count": 50,
   "metadata": {},
   "outputs": [],
   "source": [
    "import prince"
   ]
  },
  {
   "cell_type": "code",
   "execution_count": 51,
   "metadata": {},
   "outputs": [
    {
     "ename": "NameError",
     "evalue": "name 'warnings' is not defined",
     "output_type": "error",
     "traceback": [
      "\u001b[1;31m---------------------------------------------------------------------------\u001b[0m",
      "\u001b[1;31mNameError\u001b[0m                                 Traceback (most recent call last)",
      "\u001b[1;32m<ipython-input-51-c494c0b722ef>\u001b[0m in \u001b[0;36m<module>\u001b[1;34m\u001b[0m\n\u001b[0;32m      7\u001b[0m \u001b[0mrandom_state\u001b[0m\u001b[1;33m=\u001b[0m\u001b[1;36m42\u001b[0m\u001b[1;33m\u001b[0m\u001b[1;33m\u001b[0m\u001b[0m\n\u001b[0;32m      8\u001b[0m )\n\u001b[1;32m----> 9\u001b[1;33m \u001b[1;32mwith\u001b[0m \u001b[0mwarnings\u001b[0m\u001b[1;33m.\u001b[0m\u001b[0mcatch_warnings\u001b[0m\u001b[1;33m(\u001b[0m\u001b[1;33m)\u001b[0m\u001b[1;33m:\u001b[0m \u001b[1;31m# was giving me lots of warnings, so suppress\u001b[0m\u001b[1;33m\u001b[0m\u001b[1;33m\u001b[0m\u001b[0m\n\u001b[0m\u001b[0;32m     10\u001b[0m     \u001b[1;31m# ignore all caught warnings\u001b[0m\u001b[1;33m\u001b[0m\u001b[1;33m\u001b[0m\u001b[1;33m\u001b[0m\u001b[0m\n\u001b[0;32m     11\u001b[0m     \u001b[0mwarnings\u001b[0m\u001b[1;33m.\u001b[0m\u001b[0mfilterwarnings\u001b[0m\u001b[1;33m(\u001b[0m\u001b[1;34m\"ignore\"\u001b[0m\u001b[1;33m)\u001b[0m\u001b[1;33m\u001b[0m\u001b[1;33m\u001b[0m\u001b[0m\n",
      "\u001b[1;31mNameError\u001b[0m: name 'warnings' is not defined"
     ]
    }
   ],
   "source": [
    "mca = prince.MCA(\n",
    "n_components = 2,\n",
    "n_iter=3,\n",
    "copy=True,\n",
    "check_input=True,\n",
    "engine='auto',\n",
    "random_state=42\n",
    ")\n",
    "with warnings.catch_warnings(): # was giving me lots of warnings, so suppress\n",
    "    # ignore all caught warnings\n",
    "    warnings.filterwarnings(\"ignore\")\n",
    "    mca = mca.fit(surveyProc)\n",
    "    # Plotting\n",
    "    ax = mca.plot_coordinates(\n",
    "    X=surveyProc,\n",
    "    ax=None,\n",
    "    figsize=(6,6),\n",
    "    show_row_points=True,\n",
    "    row_points_size=30,\n",
    "    show_row_labels=False,\n",
    "    show_column_points=False,\n",
    "    column_points_size=30,\n",
    "    show_column_labels=False,\n",
    "    legend_n_cols=1\n",
    "    )"
   ]
  },
  {
   "cell_type": "markdown",
   "metadata": {},
   "source": [
    "Still didn't work great, what if we drop variables that we think will have low impact on our resulting PCA (based on the exploratory analysis)? Let's try again with only the most promising variables"
   ]
  },
  {
   "cell_type": "code",
   "execution_count": null,
   "metadata": {},
   "outputs": [],
   "source": [
    "oeCols = ['income_stable','utilities','mental_health']\n",
    "ohCols = ['current_living_arr','employment','fam_status']"
   ]
  },
  {
   "cell_type": "code",
   "execution_count": null,
   "metadata": {},
   "outputs": [],
   "source": [
    "# One-Hot encoding\n",
    "ct = ColumnTransformer(\n",
    "[('oh', OneHotEncoder(sparse=False,handle_unknown='ignore'), ohCols)],\n",
    "    remainder='drop')\n",
    "surveyOH = pd.DataFrame(ct.fit_transform(survey),dtype=int)\n",
    "surveyOH.columns = ct.get_feature_names() # assign col names"
   ]
  },
  {
   "cell_type": "code",
   "execution_count": null,
   "metadata": {},
   "outputs": [],
   "source": [
    "for i, col in enumerate(oeCols): # for each col to be ordinal encoded\n",
    "    df = OrdinalEncode(col,orders[i])\n",
    "    if i == 0:\n",
    "        surveyOE = df # init dataFrame\n",
    "    else:\n",
    "        surveyOE = surveyOE.join(df) # join additional frames\n",
    "surveyProc = surveyOH.join(surveyOE) # combine to create PCA-ready dataFrame"
   ]
  },
  {
   "cell_type": "code",
   "execution_count": null,
   "metadata": {},
   "outputs": [],
   "source": [
    "surveyProc"
   ]
  },
  {
   "cell_type": "markdown",
   "metadata": {},
   "source": [
    "# Run PCA\n",
    "Now that the data is correctly formatted, run the PCA function using sci-kit learn, to return the 2 principle components that account for the majority of the variance\n",
    "\n",
    "---"
   ]
  },
  {
   "cell_type": "code",
   "execution_count": null,
   "metadata": {},
   "outputs": [],
   "source": [
    "# Fit PCA\n",
    "pca = PCA(n_components=2)\n",
    "X = pca.fit_transform(surveyProc)\n",
    "varExpl = pca.explained_variance_ratio_"
   ]
  },
  {
   "cell_type": "code",
   "execution_count": null,
   "metadata": {},
   "outputs": [],
   "source": [
    "# Plotting\n",
    "plt.figure()\n",
    "plt.scatter(X[:,0],X[:,1])\n",
    "plt.title('PCA of CHP Dataset')\n",
    "plt.xlabel(\"PCA 1 ({}%)\".format(round(varExpl[0]*100)))\n",
    "plt.ylabel(\"PCA 2 ({}%)\".format(round(varExpl[1]*100)))"
   ]
  },
  {
   "cell_type": "code",
   "execution_count": null,
   "metadata": {},
   "outputs": [],
   "source": [
    "cat = [col for col in surveyProc.columns.values] # x-val\n",
    "loadings = pca.components_ # PCA loadings\n",
    "loadingsPC1 = loadings[0,:] # PCA1\n",
    "loadingsPC2 = loadings[1,:] # PCA2"
   ]
  },
  {
   "cell_type": "code",
   "execution_count": null,
   "metadata": {},
   "outputs": [],
   "source": [
    "# Plotting\n",
    "plt.figure(num=None, figsize=(6, 10), dpi=80, facecolor='w', edgecolor='k')\n",
    "plt.barh(cat,loadingsPC1)\n",
    "plt.title('Loadings for PCA 1')"
   ]
  },
  {
   "cell_type": "code",
   "execution_count": null,
   "metadata": {},
   "outputs": [],
   "source": [
    "plt.figure(num=None, figsize=(6, 10), dpi=80, facecolor='w', edgecolor='k')\n",
    "plt.barh(cat,loadingsPC2)\n",
    "plt.title('Loadings for PCA 2')"
   ]
  },
  {
   "cell_type": "markdown",
   "metadata": {},
   "source": [
    "### MCA"
   ]
  },
  {
   "cell_type": "code",
   "execution_count": null,
   "metadata": {},
   "outputs": [],
   "source": [
    "mca = prince.MCA(\n",
    "n_components = 2,\n",
    "n_iter=3,\n",
    "copy=True,\n",
    "check_input=True,\n",
    "engine='auto',\n",
    "random_state=42\n",
    ")\n",
    "with warnings.catch_warnings(): # was giving me lots of warnings, so suppress\n",
    "    # ignore all caught warnings\n",
    "    warnings.filterwarnings(\"ignore\")\n",
    "    mca = mca.fit(surveyProc)\n",
    "    # Plotting\n",
    "    ax = mca.plot_coordinates(\n",
    "    X=surveyProc,\n",
    "    ax=None,\n",
    "    figsize=(6,6),\n",
    "    show_row_points=True,\n",
    "    row_points_size=30,\n",
    "    show_row_labels=False,\n",
    "    show_column_points=False,\n",
    "    column_points_size=30,\n",
    "    show_column_labels=False,\n",
    "    legend_n_cols=1\n",
    "    )"
   ]
  },
  {
   "cell_type": "markdown",
   "metadata": {},
   "source": [
    "---\n",
    "Better, but still doesn't seem ideal for clustering, let's try one more approach. We have several variables that we are currently applying one-hot encoding to. Instead, let's try an ordinal encoding that we think is sensible. For example, the variable 'current living arrangement' can be ordered based on a scale of housing security, with *I am homeless* on one end, and *I pay market rent* on the other. We can apply this similar approach to a few other questions to try and generate better data to be used in the PCA/MCA"
   ]
  },
  {
   "cell_type": "code",
   "execution_count": null,
   "metadata": {},
   "outputs": [],
   "source": [
    "livingResp = survey.current_living_arr.unique().tolist()"
   ]
  },
  {
   "cell_type": "code",
   "execution_count": null,
   "metadata": {},
   "outputs": [],
   "source": [
    "# going to be used for ordinal encoder categories param\n",
    "# align such that index 0 --> 4 corresponds to increasing difficulty with issues \n",
    "orders = [['Always Stable','Frequently Stable','Sometimes Unstable',\n",
    "               'Frequently Unstable','Always Unstable'],\n",
    "          ['Never','Occasionally','Sometimes','Frequently','Always'],\n",
    "          ['Not at all','A little','A moderate amount','A lot',\n",
    "          'A great deal','Prefer not to answer'],\n",
    "          survey.age.unique().tolist(),\n",
    "          ['Full time employed','Part time employed','Student','Retired','Unemployed'],\n",
    "          [livingResp[5],livingResp[1],livingResp[0],livingResp[2],livingResp[4],livingResp[3]]]"
   ]
  },
  {
   "cell_type": "code",
   "execution_count": null,
   "metadata": {},
   "outputs": [],
   "source": [
    "oeCols = ['income_stable','utilities','mental_health',\n",
    "          'age','employment','current_living_arr']\n",
    "ohCols = ['gender']"
   ]
  },
  {
   "cell_type": "code",
   "execution_count": null,
   "metadata": {},
   "outputs": [],
   "source": [
    "# One-Hot encoding\n",
    "ct = ColumnTransformer(\n",
    "[('oh', OneHotEncoder(sparse=False,handle_unknown='ignore'), ohCols)],\n",
    "    remainder='drop')\n",
    "surveyOH = pd.DataFrame(ct.fit_transform(survey),dtype=int)\n",
    "surveyOH.columns = ct.get_feature_names() # assign col names"
   ]
  },
  {
   "cell_type": "code",
   "execution_count": null,
   "metadata": {},
   "outputs": [],
   "source": [
    "for i, col in enumerate(oeCols): # for each col to be ordinal encoded\n",
    "    df = OrdinalEncode(col,orders[i])\n",
    "    if i == 0:\n",
    "        surveyOE = df # init dataFrame\n",
    "    else:\n",
    "        surveyOE = surveyOE.join(df) # join additional frames\n",
    "surveyProc = surveyOH.join(surveyOE) # combine to create PCA-ready dataFrame"
   ]
  },
  {
   "cell_type": "code",
   "execution_count": null,
   "metadata": {},
   "outputs": [],
   "source": [
    "surveyProc"
   ]
  },
  {
   "cell_type": "markdown",
   "metadata": {},
   "source": [
    "# Run PCA\n",
    "Now that the data is correctly formatted, run the PCA function using sci-kit learn, to return the 2 principle components that account for the majority of the variance\n",
    "\n",
    "---"
   ]
  },
  {
   "cell_type": "code",
   "execution_count": null,
   "metadata": {},
   "outputs": [],
   "source": [
    "# Fit PCA\n",
    "pca = PCA(n_components=2)\n",
    "X = pca.fit_transform(surveyProc)\n",
    "varExpl = pca.explained_variance_ratio_"
   ]
  },
  {
   "cell_type": "code",
   "execution_count": null,
   "metadata": {},
   "outputs": [],
   "source": [
    "# Plotting\n",
    "plt.figure()\n",
    "plt.scatter(X[:,0],X[:,1])\n",
    "plt.title('PCA of CHP Dataset')\n",
    "plt.xlabel(\"PCA 1 ({}%)\".format(round(varExpl[0]*100)))\n",
    "plt.ylabel(\"PCA 2 ({}%)\".format(round(varExpl[1]*100)))"
   ]
  },
  {
   "cell_type": "code",
   "execution_count": null,
   "metadata": {},
   "outputs": [],
   "source": [
    "cat = [col for col in surveyProc.columns.values] # x-val\n",
    "loadings = pca.components_ # PCA loadings\n",
    "loadingsPC1 = loadings[0,:] # PCA1\n",
    "loadingsPC2 = loadings[1,:] # PCA2"
   ]
  },
  {
   "cell_type": "code",
   "execution_count": null,
   "metadata": {},
   "outputs": [],
   "source": [
    "# Plotting\n",
    "plt.figure(num=None, figsize=(6, 10), dpi=80, facecolor='w', edgecolor='k')\n",
    "plt.barh(cat,loadingsPC1)\n",
    "plt.title('Loadings for PCA 1')"
   ]
  },
  {
   "cell_type": "code",
   "execution_count": null,
   "metadata": {},
   "outputs": [],
   "source": [
    "plt.figure(num=None, figsize=(6, 10), dpi=80, facecolor='w', edgecolor='k')\n",
    "plt.barh(cat,loadingsPC2)\n",
    "plt.title('Loadings for PCA 2')"
   ]
  },
  {
   "cell_type": "markdown",
   "metadata": {},
   "source": [
    "### MCA"
   ]
  },
  {
   "cell_type": "code",
   "execution_count": null,
   "metadata": {},
   "outputs": [],
   "source": [
    "mca = prince.MCA(\n",
    "n_components = 2,\n",
    "n_iter=3,\n",
    "copy=True,\n",
    "check_input=True,\n",
    "engine='auto',\n",
    "random_state=42\n",
    ")\n",
    "with warnings.catch_warnings(): # was giving me lots of warnings, so suppress\n",
    "    # ignore all caught warnings\n",
    "    warnings.filterwarnings(\"ignore\")\n",
    "    mca = mca.fit(surveyProc)\n",
    "    # Plotting\n",
    "    ax = mca.plot_coordinates(\n",
    "    X=surveyProc,\n",
    "    ax=None,\n",
    "    figsize=(6,6),\n",
    "    show_row_points=True,\n",
    "    row_points_size=30,\n",
    "    show_row_labels=False,\n",
    "    show_column_points=False,\n",
    "    column_points_size=30,\n",
    "    show_column_labels=False,\n",
    "    legend_n_cols=1\n",
    "    )"
   ]
  },
  {
   "cell_type": "code",
   "execution_count": null,
   "metadata": {},
   "outputs": [],
   "source": []
  }
 ],
 "metadata": {
  "kernelspec": {
   "display_name": "Python 3",
   "language": "python",
   "name": "python3"
  },
  "language_info": {
   "codemirror_mode": {
    "name": "ipython",
    "version": 3
   },
   "file_extension": ".py",
   "mimetype": "text/x-python",
   "name": "python",
   "nbconvert_exporter": "python",
   "pygments_lexer": "ipython3",
   "version": "3.7.4"
  }
 },
 "nbformat": 4,
 "nbformat_minor": 4
}
