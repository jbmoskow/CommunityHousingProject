{
 "cells": [
  {
   "cell_type": "markdown",
   "metadata": {},
   "source": [
    "# Community Housing survey Project (CHP) PCA\n",
    "This notebook is designed to run a categorical principle component analysis (catPCA) for the 2020 PhD-Community Initiative Housing Survey dataset\n",
    "\n",
    "Coded by Josh Moskowitz in February 2020\n",
    "\n",
    "---\n"
   ]
  },
  {
   "cell_type": "markdown",
   "metadata": {},
   "source": [
    "Import the relevant libraries and other setup"
   ]
  },
  {
   "cell_type": "code",
   "execution_count": 495,
   "metadata": {},
   "outputs": [],
   "source": [
    "import numpy as np\n",
    "import pandas as pd\n",
    "import matplotlib.pyplot as plt\n",
    "\n",
    "# Setup\n",
    "%matplotlib inline\n",
    "pd.set_option('display.max_columns', None)"
   ]
  },
  {
   "cell_type": "markdown",
   "metadata": {},
   "source": [
    "Import survey data"
   ]
  },
  {
   "cell_type": "code",
   "execution_count": 496,
   "metadata": {},
   "outputs": [],
   "source": [
    "#survey = pd.read_excel('F:/Users/Josh/Dropbox/PhD-CI/KCH_01312020.xlsx',index_col=None,header=0)\n",
    "survey = pd.read_excel('C:/Users/Josh/Desktop/Dropbox/PhD-CI/KCH_01312020.xlsx',index_col=None,header=0)\n",
    "questions = survey.iloc[0][:] # grab question wording and store for later"
   ]
  },
  {
   "cell_type": "markdown",
   "metadata": {},
   "source": [
    "## Cleanup survey data"
   ]
  },
  {
   "cell_type": "markdown",
   "metadata": {},
   "source": [
    "Remove unecessary rows and cols"
   ]
  },
  {
   "cell_type": "code",
   "execution_count": 497,
   "metadata": {},
   "outputs": [],
   "source": [
    "survey.drop(index=[0,1],inplace=True) # remove first 2 rows\n",
    "# Remove any irrelevant or personally idenitifying columns\n",
    "survey.drop(labels=['Status','IPAddress','RecipientLastName','RecipientFirstName','RecipientEmail',\n",
    "                    'ExternalReference','LocationLatitude','LocationLongitude','DistributionChannel',\n",
    "                    'UserLanguage','info','consent','StartDate','EndDate','Duration (in seconds)',\n",
    "                    'Progress','Finished','RecordedDate','ResponseId','num_applied_explain_2_TEXT',\n",
    "                    'num_applied_explain_3_TEXT','current_living_arr_6_TEXT','why_move_7_TEXT',\n",
    "                    'fam_status_5_TEXT','can_residency_3_TEXT','why_move','num_applied',\n",
    "                    'num_applied_explain','private_housing','subsidy',\n",
    "                   ],axis=1,inplace=True)\n",
    "survey.reset_index(drop=True, inplace=True) # reset index"
   ]
  },
  {
   "cell_type": "markdown",
   "metadata": {},
   "source": [
    "Remove Whitespace and weird characters"
   ]
  },
  {
   "cell_type": "code",
   "execution_count": 498,
   "metadata": {},
   "outputs": [],
   "source": [
    "def cleanDataFrame(obj):\n",
    "    \"Return a modified string\"\n",
    "    if isinstance(obj, str): # if object is a string\n",
    "        return obj.replace(\"â€™\", \"'\").strip() # fix apostrophes and remove trailing whitespace\n",
    "    else:\n",
    "        return obj\n",
    "\n",
    "survey = survey.applymap(cleanDataFrame)"
   ]
  },
  {
   "cell_type": "markdown",
   "metadata": {},
   "source": [
    "Function that will strip commas and split string when a person gave multiple responses"
   ]
  },
  {
   "cell_type": "code",
   "execution_count": 499,
   "metadata": {},
   "outputs": [],
   "source": [
    "def cleanAndSplit(string):\n",
    "    \"Return a list of strings split by comma\"\n",
    "    \n",
    "    # remove commas from one of the possible survey responses\n",
    "    # \"I need to be closer to work, childcare, or social/health support services\"\n",
    "    if \"I need to be closer to work\" in string:\n",
    "        idx1 = string.find(\"childcare\") - 2\n",
    "        idx2 = string.find(\" or \") - 1\n",
    "        cleanString = string[:idx1] + string[idx1:idx2].replace(',','') + string[idx2+1:]\n",
    "    else:\n",
    "        cleanString = string\n",
    "\n",
    "    return cleanString.split(',')"
   ]
  },
  {
   "cell_type": "markdown",
   "metadata": {},
   "source": [
    "Function that will recode the employment column to only include one employment type"
   ]
  },
  {
   "cell_type": "code",
   "execution_count": 500,
   "metadata": {},
   "outputs": [],
   "source": [
    "def recodeEmploy(row):\n",
    "    \"Return a Pandas row object with modified employment data\"\n",
    "    \n",
    "    if isinstance(row.employment,str):\n",
    "        listStatus = cleanAndSplit(row.employment)\n",
    "        # we don't care if students are employed or not\n",
    "        if 'Student' in listStatus:\n",
    "            row.employment = 'Student'\n",
    "        # we don't care if retirees are employed or not\n",
    "        elif 'Retired' in listStatus:\n",
    "            row.employment = 'Retired'\n",
    "        else:\n",
    "            row.employment = listStatus[0]\n",
    "    return row\n",
    "survey = survey.apply(recodeEmploy,axis='columns')"
   ]
  },
  {
   "cell_type": "code",
   "execution_count": 501,
   "metadata": {},
   "outputs": [
    {
     "data": {
      "text/plain": [
       "['current_living_arr',\n",
       " 'employment',\n",
       " 'income_stable',\n",
       " 'utilities',\n",
       " 'debt',\n",
       " 'mental_health',\n",
       " 'substance_use',\n",
       " 'gender',\n",
       " 'age',\n",
       " 'fam_status',\n",
       " 'first_nation',\n",
       " 'vis_minority',\n",
       " 'can_residency']"
      ]
     },
     "execution_count": 501,
     "metadata": {},
     "output_type": "execute_result"
    }
   ],
   "source": [
    "list(survey.columns) # check col names"
   ]
  },
  {
   "cell_type": "markdown",
   "metadata": {},
   "source": [
    "# Prepare data for PCA\n",
    "---\n",
    "### Notes\n",
    "Try using CountVectorizer() to encode 'why_move' column"
   ]
  },
  {
   "cell_type": "code",
   "execution_count": 502,
   "metadata": {},
   "outputs": [],
   "source": [
    "# imports\n",
    "from sklearn import decomposition\n",
    "from sklearn.compose import ColumnTransformer\n",
    "from sklearn.pipeline import Pipeline\n",
    "from sklearn.impute import SimpleImputer\n",
    "from sklearn.preprocessing import OrdinalEncoder\n",
    "from sklearn.preprocessing import OneHotEncoder"
   ]
  },
  {
   "cell_type": "code",
   "execution_count": 503,
   "metadata": {},
   "outputs": [],
   "source": [
    "# Select columns\n",
    "oeCols = ['income_stable','utilities','mental_health','substance_use']\n",
    "ohCols = [col for col in survey.drop(labels=leCols,axis=1).columns] # all other cols"
   ]
  },
  {
   "cell_type": "code",
   "execution_count": 504,
   "metadata": {},
   "outputs": [],
   "source": [
    "# going to be used for ordinal encoder categories param\n",
    "orders = [['Always Stable','Frequently Stable','Sometimes Unstable',\n",
    "               'Frequently Unstable','Always Unstable'],\n",
    "          ['Always','Frequently','Sometimes','Occasionally','Never'],\n",
    "          ['Prefer not to answer','A great deal','A lot','A moderate amount',\n",
    "           'A little','Not at all'],\n",
    "          ['Prefer not to answer','A great deal','A lot','A moderate amount',\n",
    "           'A little','Not at all']]"
   ]
  },
  {
   "cell_type": "code",
   "execution_count": 505,
   "metadata": {},
   "outputs": [
    {
     "data": {
      "text/plain": [
       "current_living_arr    1\n",
       "employment            1\n",
       "income_stable         1\n",
       "utilities             3\n",
       "debt                  1\n",
       "mental_health         1\n",
       "substance_use         1\n",
       "gender                1\n",
       "age                   1\n",
       "fam_status            1\n",
       "first_nation          1\n",
       "vis_minority          1\n",
       "can_residency         1\n",
       "dtype: int64"
      ]
     },
     "execution_count": 505,
     "metadata": {},
     "output_type": "execute_result"
    }
   ],
   "source": [
    "survey.isna().sum() # cols with NaNs"
   ]
  },
  {
   "cell_type": "code",
   "execution_count": 506,
   "metadata": {},
   "outputs": [],
   "source": [
    "# Find where common empty rows are and drop from table\n",
    "idx = survey[survey.age.isna()]['age'].index.values\n",
    "survey.drop(index=idx,inplace=True)\n",
    "survey.reset_index(drop=True, inplace=True) # reset index"
   ]
  },
  {
   "cell_type": "markdown",
   "metadata": {},
   "source": [
    "### SimpleImputer\n",
    "---"
   ]
  },
  {
   "cell_type": "code",
   "execution_count": 507,
   "metadata": {},
   "outputs": [],
   "source": [
    "# For missing utilities data impute values\n",
    "si = SimpleImputer(strategy='most_frequent')\n",
    "col = np.reshape(survey.utilities.values,(-1,1)) # need to do this for single cols apparently\n",
    "surveyProc = pd.DataFrame(si.fit_transform(col)).rename(columns={0:'utilities'}) # replace missing col name\n",
    "survey.drop(labels='utilities',axis=1,inplace=True) # remove original column\n",
    "survey = survey.join(surveyProc);"
   ]
  },
  {
   "cell_type": "markdown",
   "metadata": {},
   "source": [
    "### One-Hot Encoding using ColumnTransformer\n",
    "---"
   ]
  },
  {
   "cell_type": "code",
   "execution_count": 508,
   "metadata": {},
   "outputs": [],
   "source": [
    "# One-Hot encoding\n",
    "ct = ColumnTransformer(\n",
    "[('oh', OneHotEncoder(sparse=False,handle_unknown='ignore'), ohCols)],\n",
    "    remainder='drop')\n",
    "surveyOH = pd.DataFrame(ct.fit_transform(survey),dtype=int)\n",
    "surveyOH.columns = ct.get_feature_names() # assign col names"
   ]
  },
  {
   "cell_type": "markdown",
   "metadata": {},
   "source": [
    "### OrdinalEncoder \n",
    "---"
   ]
  },
  {
   "cell_type": "code",
   "execution_count": 509,
   "metadata": {},
   "outputs": [],
   "source": [
    "# OrdinalEncoding\n",
    "def OrdinalEncode(colName,categories):\n",
    "    \"Returns a dataframe after performing ordinal encoding\"\n",
    "    oe = OrdinalEncoder(categories=[categories])\n",
    "    col = np.reshape(survey[colName].values,(-1,1)) # need to do this for single cols apparently\n",
    "    return pd.DataFrame(oe.fit_transform(col),dtype=int).rename(columns={0:colName}) # replace missing col name"
   ]
  },
  {
   "cell_type": "code",
   "execution_count": 513,
   "metadata": {},
   "outputs": [],
   "source": [
    "for i, col in enumerate(oeCols): # for each col to be ordinal encoded\n",
    "    df = OrdinalEncode(col,orders[i])\n",
    "    if i == 0:\n",
    "        surveyOE = df # init dataFrame\n",
    "    else:\n",
    "        surveyOE = surveyOE.join(df) # join additional frames\n",
    "surveyProc = surveyOH.join(surveyOE) # combine to create PCA-ready dataFrame"
   ]
  },
  {
   "cell_type": "code",
   "execution_count": 514,
   "metadata": {},
   "outputs": [
    {
     "data": {
      "text/html": [
       "<div>\n",
       "<style scoped>\n",
       "    .dataframe tbody tr th:only-of-type {\n",
       "        vertical-align: middle;\n",
       "    }\n",
       "\n",
       "    .dataframe tbody tr th {\n",
       "        vertical-align: top;\n",
       "    }\n",
       "\n",
       "    .dataframe thead th {\n",
       "        text-align: right;\n",
       "    }\n",
       "</style>\n",
       "<table border=\"1\" class=\"dataframe\">\n",
       "  <thead>\n",
       "    <tr style=\"text-align: right;\">\n",
       "      <th></th>\n",
       "      <th>income_stable</th>\n",
       "      <th>utilities</th>\n",
       "      <th>mental_health</th>\n",
       "      <th>substance_use</th>\n",
       "    </tr>\n",
       "  </thead>\n",
       "  <tbody>\n",
       "  </tbody>\n",
       "</table>\n",
       "</div>"
      ],
      "text/plain": [
       "Empty DataFrame\n",
       "Columns: [income_stable, utilities, mental_health, substance_use]\n",
       "Index: []"
      ]
     },
     "execution_count": 514,
     "metadata": {},
     "output_type": "execute_result"
    }
   ],
   "source": [
    "surveyProc"
   ]
  },
  {
   "cell_type": "code",
   "execution_count": null,
   "metadata": {},
   "outputs": [],
   "source": []
  }
 ],
 "metadata": {
  "kernelspec": {
   "display_name": "Python 3",
   "language": "python",
   "name": "python3"
  },
  "language_info": {
   "codemirror_mode": {
    "name": "ipython",
    "version": 3
   },
   "file_extension": ".py",
   "mimetype": "text/x-python",
   "name": "python",
   "nbconvert_exporter": "python",
   "pygments_lexer": "ipython3",
   "version": "3.7.4"
  }
 },
 "nbformat": 4,
 "nbformat_minor": 4
}
