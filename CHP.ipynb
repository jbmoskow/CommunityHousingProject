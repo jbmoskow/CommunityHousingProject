{
 "cells": [
  {
   "cell_type": "markdown",
   "metadata": {},
   "source": [
    "# Community Housing Survey Project\n",
    "This notebook is designed to do exploratory data analysis for the 2020 PhD-Community Initiative Housing\n",
    "Survey dataset\n",
    "\n",
    "Coded by Josh Moskowitz in February 2020\n",
    "\n",
    "---\n",
    "\n",
    "\n"
   ]
  },
  {
   "cell_type": "markdown",
   "metadata": {},
   "source": [
    "Import the relevant libraries and other setup"
   ]
  },
  {
   "cell_type": "code",
   "execution_count": 12,
   "metadata": {},
   "outputs": [],
   "source": [
    "import numpy as np\n",
    "import pandas as pd\n",
    "import matplotlib.pyplot as plt\n",
    "\n",
    "# Setup\n",
    "%matplotlib inline\n",
    "pd.set_option('display.max_columns', None)"
   ]
  },
  {
   "cell_type": "markdown",
   "metadata": {},
   "source": [
    "Import survey data"
   ]
  },
  {
   "cell_type": "code",
   "execution_count": 13,
   "metadata": {},
   "outputs": [],
   "source": [
    "survey = pd.read_excel('F:/Users/Josh/Dropbox/PhD-CI/KCH_01312020.xlsx',index_col=None,header=0)\n",
    "questions = survey.iloc[0][:] # grab question wording and store for later"
   ]
  },
  {
   "cell_type": "markdown",
   "metadata": {},
   "source": [
    "## Cleanup survey data"
   ]
  },
  {
   "cell_type": "markdown",
   "metadata": {},
   "source": [
    "Remove unecessary rows and cols"
   ]
  },
  {
   "cell_type": "code",
   "execution_count": 14,
   "metadata": {},
   "outputs": [],
   "source": [
    "survey.drop(index=[0,1],inplace=True) # remove first 2 rows\n",
    "# Remove any irrelevant or personally idenitifying columns\n",
    "survey.drop(labels=['Status','IPAddress','RecipientLastName','RecipientFirstName','RecipientEmail',\n",
    "                    'ExternalReference','LocationLatitude','LocationLongitude','DistributionChannel',\n",
    "                    'UserLanguage','info'],axis=1,inplace=True)\n",
    "survey.reset_index(drop=True, inplace=True) # reset index"
   ]
  },
  {
   "cell_type": "markdown",
   "metadata": {},
   "source": [
    "Remove Whitespace and weird characters"
   ]
  },
  {
   "cell_type": "code",
   "execution_count": 15,
   "metadata": {},
   "outputs": [],
   "source": [
    "def cleanDataFrame(obj):\n",
    "    \"Return a modified string\"\n",
    "    if isinstance(obj, str): # if object is a string\n",
    "        return obj.replace(\"â€™\", \"'\").strip() # fix apostrophes and remove trailing whitespace\n",
    "    else:\n",
    "        return obj\n",
    "\n",
    "survey = survey.applymap(cleanDataFrame)"
   ]
  },
  {
   "cell_type": "code",
   "execution_count": 16,
   "metadata": {},
   "outputs": [
    {
     "data": {
      "text/plain": [
       "['StartDate',\n",
       " 'EndDate',\n",
       " 'Progress',\n",
       " 'Duration (in seconds)',\n",
       " 'Finished',\n",
       " 'RecordedDate',\n",
       " 'ResponseId',\n",
       " 'consent',\n",
       " 'num_applied',\n",
       " 'num_applied_explain',\n",
       " 'num_applied_explain_2_TEXT',\n",
       " 'num_applied_explain_3_TEXT',\n",
       " 'private_housing',\n",
       " 'current_living_arr',\n",
       " 'current_living_arr_6_TEXT',\n",
       " 'why_move',\n",
       " 'why_move_7_TEXT',\n",
       " 'subsidy',\n",
       " 'employment',\n",
       " 'income_stable',\n",
       " 'utilities',\n",
       " 'debt',\n",
       " 'mental_health',\n",
       " 'substance_use',\n",
       " 'gender',\n",
       " 'age',\n",
       " 'fam_status',\n",
       " 'fam_status_5_TEXT',\n",
       " 'first_nation',\n",
       " 'vis_minority',\n",
       " 'can_residency',\n",
       " 'can_residency_3_TEXT']"
      ]
     },
     "execution_count": 16,
     "metadata": {},
     "output_type": "execute_result"
    }
   ],
   "source": [
    "list(survey.columns) # check col names for plotting"
   ]
  },
  {
   "cell_type": "markdown",
   "metadata": {},
   "source": [
    "## Basic demographic data"
   ]
  },
  {
   "cell_type": "markdown",
   "metadata": {},
   "source": [
    "### Gender"
   ]
  },
  {
   "cell_type": "code",
   "execution_count": 17,
   "metadata": {},
   "outputs": [
    {
     "data": {
      "text/plain": [
       "<matplotlib.axes._subplots.AxesSubplot at 0x1317e1ffe48>"
      ]
     },
     "execution_count": 17,
     "metadata": {},
     "output_type": "execute_result"
    },
    {
     "data": {
      "image/png": "[encoded data removed]",
      "text/plain": [
       "<Figure size 432x288 with 1 Axes>"
      ]
     },
     "metadata": {
      "needs_background": "light"
     },
     "output_type": "display_data"
    }
   ],
   "source": [
    "survey.gender.value_counts().plot(kind='barh')"
   ]
  },
  {
   "cell_type": "markdown",
   "metadata": {},
   "source": [
    "### Age"
   ]
  },
  {
   "cell_type": "code",
   "execution_count": 18,
   "metadata": {},
   "outputs": [
    {
     "data": {
      "text/plain": [
       "<matplotlib.axes._subplots.AxesSubplot at 0x1317e1bde88>"
      ]
     },
     "execution_count": 18,
     "metadata": {},
     "output_type": "execute_result"
    },
    {
     "data": {
      "image/png": "[encoded data removed]",
      "text/plain": [
       "<Figure size 432x288 with 1 Axes>"
      ]
     },
     "metadata": {
      "needs_background": "light"
     },
     "output_type": "display_data"
    }
   ],
   "source": [
    "survey.age.value_counts().plot(kind='barh')"
   ]
  },
  {
   "cell_type": "markdown",
   "metadata": {},
   "source": [
    "### Family Status"
   ]
  },
  {
   "cell_type": "code",
   "execution_count": 19,
   "metadata": {},
   "outputs": [
    {
     "data": {
      "text/plain": [
       "<matplotlib.axes._subplots.AxesSubplot at 0x1317e257a48>"
      ]
     },
     "execution_count": 19,
     "metadata": {},
     "output_type": "execute_result"
    },
    {
     "data": {
      "image/png": "[encoded data removed]",
      "text/plain": [
       "<Figure size 432x288 with 1 Axes>"
      ]
     },
     "metadata": {
      "needs_background": "light"
     },
     "output_type": "display_data"
    }
   ],
   "source": [
    "survey.fam_status.value_counts().plot(kind='barh')"
   ]
  },
  {
   "cell_type": "markdown",
   "metadata": {},
   "source": [
    " ## Reasons for moving"
   ]
  },
  {
   "cell_type": "markdown",
   "metadata": {},
   "source": [
    "Function that will strip commas and split when a person gave multiple responses"
   ]
  },
  {
   "cell_type": "code",
   "execution_count": 20,
   "metadata": {},
   "outputs": [],
   "source": [
    "def cleanWhyMove(string):\n",
    "    \"Split the string split into seperate responses\"\n",
    "    \n",
    "    # remove commas from one of the possible survey responses\n",
    "    # \"I need to be closer to work, childcare, or social/health support services\"\n",
    "    if \"I need to be closer to work\" in string:\n",
    "        idx1 = string.find(\"childcare\") - 2\n",
    "        idx2 = string.find(\" or \") - 1\n",
    "        cleanString = string[:idx1] + string[idx1:idx2].replace(',','') + string[idx2+1:]\n",
    "    else:\n",
    "        cleanString = string\n",
    "\n",
    "    return cleanString.split(',')"
   ]
  },
  {
   "cell_type": "markdown",
   "metadata": {},
   "source": [
    "Append responses to List"
   ]
  },
  {
   "cell_type": "code",
   "execution_count": 21,
   "metadata": {},
   "outputs": [],
   "source": [
    "SepResp = []\n",
    "for i in survey.why_move:\n",
    "    if isinstance(i,str):\n",
    "        SepResp.append(cleanWhyMove(i))\n",
    "        \n",
    "SepResp = [item for sublist in SepResp for item in sublist] # flatten list\n",
    "Responses = pd.Series(SepResp,index=None) # convert to series"
   ]
  },
  {
   "cell_type": "code",
   "execution_count": 22,
   "metadata": {},
   "outputs": [
    {
     "data": {
      "text/plain": [
       "<matplotlib.axes._subplots.AxesSubplot at 0x1317d791308>"
      ]
     },
     "execution_count": 22,
     "metadata": {},
     "output_type": "execute_result"
    },
    {
     "data": {
      "image/png": "[encoded data removed]",
      "text/plain": [
       "<Figure size 432x288 with 1 Axes>"
      ]
     },
     "metadata": {
      "needs_background": "light"
     },
     "output_type": "display_data"
    }
   ],
   "source": [
    "Responses.value_counts().plot(kind='barh')"
   ]
  }
 ],
 "metadata": {
  "kernelspec": {
   "display_name": "Python (base)",
   "language": "python",
   "name": "base"
  },
  "language_info": {
   "codemirror_mode": {
    "name": "ipython",
    "version": 3
   },
   "file_extension": ".py",
   "mimetype": "text/x-python",
   "name": "python",
   "nbconvert_exporter": "python",
   "pygments_lexer": "ipython3",
   "version": "3.7.4"
  }
 },
 "nbformat": 4,
 "nbformat_minor": 4
}
